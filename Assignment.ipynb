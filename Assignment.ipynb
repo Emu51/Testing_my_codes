{
 "cells": [
  {
   "cell_type": "code",
   "execution_count": 1,
   "metadata": {},
   "outputs": [],
   "source": [
    "Phonebook = []"
   ]
  },
  {
   "cell_type": "code",
   "execution_count": 2,
   "metadata": {},
   "outputs": [],
   "source": [
    "def Phonebook_Menu():\n",
    "    \"\"\"Displays the menu of Phonebook\"\"\"\n",
    "\n",
    "    print(\"--------------------------------------------------------------------.........\\n\")\n",
    "    print(\"Please entered the code associated with an operation to perform that operatio\\n\")\n",
    "    print(\"1  ->  ADD new person\")\n",
    "    print(\"2  ->  Update existing information\")\n",
    "    print(\"3  ->  Delete a person\")\n",
    "    print(\"4  ->  Display entire phonebook\")\n",
    "    print(\"5  ->  Search\")\n",
    "    print(\"6  ->  Store phonebook in a txt file\\n\")\n",
    "    print(\"--------------------------------------------------------------------.........\\n\")"
   ]
  },
  {
   "cell_type": "code",
   "execution_count": 3,
   "metadata": {},
   "outputs": [],
   "source": [
    "class Person:\n",
    "    \"\"\"A person model\"\"\"\n",
    "    \n",
    "    def __init__(self, name, address, email, phones):\n",
    "        \"\"\"Initialize attributes of a person\"\"\"\n",
    "        self.name = name\n",
    "        self.address = address\n",
    "        self.email = email\n",
    "        self.phones = phones"
   ]
  },
  {
   "cell_type": "code",
   "execution_count": 4,
   "metadata": {},
   "outputs": [],
   "source": [
    "def add():\n",
    "    \"\"\"Add a person to the phonebook\"\"\"\n",
    "    name = input(\"Enter name: \")\n",
    "    address = input(\"Enter address: \")\n",
    "    email = input(\"Enter email: \")\n",
    "    ph = int(input(\"How many phone numbers do you want to enter: \"))\n",
    "    phones = []\n",
    "    \n",
    "    for x in range(ph):\n",
    "        phone = input(f\"Enter phone number {x+1}: \")\n",
    "        phones.append(phone)\n",
    "    p = Person(name, address, email, phones)\n",
    "    \n",
    "    try:\n",
    "        Phonebook.append(p)\n",
    "    except:\n",
    "        print(\"Could not add\")"
   ]
  },
  {
   "cell_type": "code",
   "execution_count": 5,
   "metadata": {},
   "outputs": [],
   "source": [
    "def update():\n",
    "    \"\"\"update a person's information from phonebook\"\"\"\n",
    "    found = False\n",
    "    name = input(\"Enter name of person to search for: \")\n",
    "    for person in Phonebook:\n",
    "        if person.name == name:\n",
    "            choice = input(\"Do you want to update name?(Y/N): \")\n",
    "            if choice == \"Y\":\n",
    "                name = input(\"Enter new name: \")\n",
    "                person.name = name\n",
    "            choice = input(\"Do you want to update address?(Y/N): \")\n",
    "            if choice == \"Y\":\n",
    "                address = input(\"Enter new address: \")\n",
    "                person.address = address\n",
    "            choice = input(\"Do you want to update email?(Y/N): \")\n",
    "            if choice == \"Y\":\n",
    "                email = input(\"Enter new email: \")\n",
    "                person.email = email\n",
    "            print(\"Succesfully updated\")\n",
    "            found = True\n",
    "            break\n",
    "    if found == False:\n",
    "        print(\"Person not found\")"
   ]
  },
  {
   "cell_type": "code",
   "execution_count": 6,
   "metadata": {},
   "outputs": [],
   "source": [
    "def delete():\n",
    "    \"\"\"Delete a person from phonebook\"\"\"\n",
    "    name = input(\"Enter name of person to search for: \")\n",
    "    found = False\n",
    "    for x in range(len(Phonebook)):\n",
    "        if Phonebook[x].name == name:\n",
    "            del Phonebook[x]\n",
    "            print(\"Successfully Deleted\")\n",
    "            found = True\n",
    "            break\n",
    "    if found == False:\n",
    "        print(\"Person not found!\")"
   ]
  },
  {
   "cell_type": "code",
   "execution_count": 7,
   "metadata": {},
   "outputs": [],
   "source": [
    "from tabulate import tabulate\n",
    "def display():\n",
    "    \"\"\"Displays the entire phonebook content\"\"\"\n",
    "    cnt = 1\n",
    "    li = []\n",
    "    for person in Phonebook:\n",
    "        li.append([cnt, person.name, person.address, person.email, person.phones])\n",
    "        cnt += 1\n",
    "    tb = tabulate(li, headers=['S.No','Name','Address','Email','Age'])\n",
    "    print(tb)"
   ]
  },
  {
   "cell_type": "code",
   "execution_count": 8,
   "metadata": {},
   "outputs": [],
   "source": [
    "def display_person_details(person):\n",
    "    \"\"\"Displays information of a person from phonebook\"\"\"\n",
    "    \n",
    "    print(\"--------------------------------------------------------------------.........\\n\")\n",
    "    print(f\"----------------------------------Found---------------------------------.......\\n\")\n",
    "    print(f\"Name: {person.name}\")\n",
    "    print(f\"Address: {person.address}\")\n",
    "    print(f\"Email: {person.email}\")\n",
    "    print(f\"Phone numbers: {person.phones}\")\n",
    "    print(\"--------------------------------------------------------------------.........\\n\")"
   ]
  },
  {
   "cell_type": "code",
   "execution_count": 9,
   "metadata": {},
   "outputs": [],
   "source": [
    "def search():\n",
    "    \"\"\"Search for a person using his/her name\"\"\"\n",
    "    found = False\n",
    "    name = input(\"Enter name to search for: \")\n",
    "    for person in Phonebook:\n",
    "        if person.name == name:\n",
    "            display_person_details(person)\n",
    "            found = True\n",
    "    \n",
    "    if found == False:\n",
    "        print(\"Not found!\")"
   ]
  },
  {
   "cell_type": "code",
   "execution_count": 10,
   "metadata": {},
   "outputs": [],
   "source": [
    "from tabulate import tabulate\n",
    "\n",
    "cnt = 1\n",
    "li = []\n",
    "for person in Phonebook:\n",
    "    li.append([cnt, person.name, person.address, person.email, person.phones])\n",
    "    cnt += 1\n",
    "tb = tabulate(li, headers=['S.No','Name','Address','Email','Age'])\n",
    "\n",
    "def store():\n",
    "    \"\"\"Store the phonebook in a text file\"\"\"\n",
    "    filename = 'Phonebook.txt'\n",
    "    try:\n",
    "        with open(filename, 'r+') as file_obj:\n",
    "            file_obj.write(\"\")\n",
    "            file_obj.write(tb)\n",
    "            print(\"Successfully saved\")\n",
    "    except:\n",
    "        print(\"Error in saving file\")"
   ]
  },
  {
   "cell_type": "code",
   "execution_count": 11,
   "metadata": {},
   "outputs": [],
   "source": [
    "def operate_phonebook(x):\n",
    "    \"\"\"Does phonebook operation\"\"\"\n",
    "    \n",
    "    if x == \"1\":\n",
    "        add()\n",
    "    elif x == \"2\":\n",
    "        update()\n",
    "    elif x == \"3\":\n",
    "        delete()\n",
    "    elif x == \"4\":\n",
    "        display()\n",
    "    elif x == \"5\":\n",
    "        search()\n",
    "    elif x == \"6\":\n",
    "        store()"
   ]
  },
  {
   "cell_type": "markdown",
   "metadata": {},
   "source": [
    "while True:\n",
    "    Phonebook_Menu()\n",
    "    i = input(\"Enter any of the above code (1-6) to perform required operations or type quit to exit \")\n",
    "    if i == \"quit\":\n",
    "        break\n",
    "    operate_phonebook(i)"
   ]
  },
  {
   "cell_type": "code",
   "execution_count": 12,
   "metadata": {},
   "outputs": [
    {
     "name": "stdout",
     "output_type": "stream",
     "text": [
      "--------------------------------------------------------------------.........\n",
      "\n",
      "Please entered the code associated with an operation to perform that operatio\n",
      "\n",
      "1  ->  ADD new person\n",
      "2  ->  Update existing information\n",
      "3  ->  Delete a person\n",
      "4  ->  Display entire phonebook\n",
      "5  ->  Search\n",
      "6  ->  Store phonebook in a txt file\n",
      "\n",
      "--------------------------------------------------------------------.........\n",
      "\n",
      "Enter any of the above code (1-6) to perform required operations or type quit to exit 1\n",
      "Enter name: Nabil\n",
      "Enter address: Bashundhara R/A\n",
      "Enter email: nowsher.ali28@gmail.com\n",
      "How many phone numbers do you want to enter: 1\n",
      "Enter phone number 1: 0177777772\n",
      "--------------------------------------------------------------------.........\n",
      "\n",
      "Please entered the code associated with an operation to perform that operatio\n",
      "\n",
      "1  ->  ADD new person\n",
      "2  ->  Update existing information\n",
      "3  ->  Delete a person\n",
      "4  ->  Display entire phonebook\n",
      "5  ->  Search\n",
      "6  ->  Store phonebook in a txt file\n",
      "\n",
      "--------------------------------------------------------------------.........\n",
      "\n",
      "Enter any of the above code (1-6) to perform required operations or type quit to exit 6\n",
      "Successfully saved\n",
      "--------------------------------------------------------------------.........\n",
      "\n",
      "Please entered the code associated with an operation to perform that operatio\n",
      "\n",
      "1  ->  ADD new person\n",
      "2  ->  Update existing information\n",
      "3  ->  Delete a person\n",
      "4  ->  Display entire phonebook\n",
      "5  ->  Search\n",
      "6  ->  Store phonebook in a txt file\n",
      "\n",
      "--------------------------------------------------------------------.........\n",
      "\n",
      "Enter any of the above code (1-6) to perform required operations or type quit to exit quir\n",
      "--------------------------------------------------------------------.........\n",
      "\n",
      "Please entered the code associated with an operation to perform that operatio\n",
      "\n",
      "1  ->  ADD new person\n",
      "2  ->  Update existing information\n",
      "3  ->  Delete a person\n",
      "4  ->  Display entire phonebook\n",
      "5  ->  Search\n",
      "6  ->  Store phonebook in a txt file\n",
      "\n",
      "--------------------------------------------------------------------.........\n",
      "\n",
      "Enter any of the above code (1-6) to perform required operations or type quit to exit quit\n"
     ]
    }
   ],
   "source": [
    "while True: \n",
    "    Phonebook_Menu() \n",
    "    i = input(\"Enter any of the above code (1-6) to perform required operations or type quit to exit \") \n",
    "    if i == \"quit\": \n",
    "        break \n",
    "    operate_phonebook(i)"
   ]
  },
  {
   "cell_type": "code",
   "execution_count": null,
   "metadata": {},
   "outputs": [],
   "source": []
  },
  {
   "cell_type": "code",
   "execution_count": null,
   "metadata": {},
   "outputs": [],
   "source": []
  }
 ],
 "metadata": {
  "kernelspec": {
   "display_name": "Python 3",
   "language": "python",
   "name": "python3"
  },
  "language_info": {
   "codemirror_mode": {
    "name": "ipython",
    "version": 3
   },
   "file_extension": ".py",
   "mimetype": "text/x-python",
   "name": "python",
   "nbconvert_exporter": "python",
   "pygments_lexer": "ipython3",
   "version": "3.7.3"
  }
 },
 "nbformat": 4,
 "nbformat_minor": 2
}
